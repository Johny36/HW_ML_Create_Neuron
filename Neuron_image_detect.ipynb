{
 "cells": [
  {
   "cell_type": "markdown",
   "metadata": {},
   "source": [
    "\n",
    "Linear NN/Classifiction/Detection\n",
    "PART 1 \n",
    "\n",
    "Let's train a neuron to \"detect\" a symbol from a raster image\n",
    "\n",
    "Imagine we have a pixel matrix where color values are in the diapason of [0..1] with a resolution of 3 x 3 pixels and the NEURON's task is to detect if the image is a \"plus\" sign(1) or not (0)\n"
   ]
  },
  {
   "cell_type": "code",
   "execution_count": 22,
   "metadata": {},
   "outputs": [],
   "source": [
    "# x - singel values\n",
    "# X - collections\n",
    "\n",
    "\n",
    "class LinearNeuronDetect:\n",
    "\n",
    "    def __init__(self):\n",
    "        self.weights = [0 for i in range(9)]\n",
    "        self.bias    = 0\n",
    "\n",
    "    def sigmoidActivation(self, x):\n",
    "        e = 2.718281828459045\n",
    "        return 1/ (1 + e** - x)\n",
    "\n",
    "    def forward(self, X):\n",
    "        y = self.bias\n",
    "        for i in range (9):\n",
    "            y += X[i] * self.weights[i]\n",
    "\n",
    "        y = self.sigmoidActivation(y)\n",
    "\n",
    "        return y\n",
    "\n",
    "    def __str__(self):\n",
    "        return str(self.weights) + \" \" + str(self.bias)\n",
    "\n",
    "\n",
    "def reshapeMatrix(X):\n",
    "    Xt = []\n",
    "    for i in range(3):\n",
    "        for j in range(3):\n",
    "            Xt.append(   X[i][j]  )\n",
    "\n",
    "    return Xt\n"
   ]
  },
  {
   "cell_type": "code",
   "execution_count": 28,
   "metadata": {},
   "outputs": [
    {
     "name": "stdout",
     "output_type": "stream",
     "text": [
      "[1, 1, 1, 0, 0, 0, 1, 1, 1]\n",
      "[-1, 1, -1, 1, 1, 1, -1, 1, 0] 0\n",
      "0.2689414213699951\n"
     ]
    }
   ],
   "source": [
    "X_data_set = [\n",
    "    [\n",
    "    [0, 1, 0],\n",
    "    [1, 1, 1],\n",
    "    [0, 1, 0]\n",
    "    ],\n",
    "    [\n",
    "    [0, 0, 0],\n",
    "    [1, 1, 1],\n",
    "    [0, 0, 0]\n",
    "    ],\n",
    "    [\n",
    "    [1, 0, 0],\n",
    "    [0, 1, 0],\n",
    "    [0, 0, 1]\n",
    "    ],\n",
    "    [\n",
    "    [1, 1, 1],\n",
    "    [0, 0, 0],\n",
    "    [1, 1, 1]\n",
    "   ]\n",
    "]\n",
    "\n",
    "lnd_plus = LinearNeuronDetect()\n",
    "lnd_plus.weights[0] = -1\n",
    "lnd_plus.weights[1] = 1\n",
    "lnd_plus.weights[2] = -1\n",
    "lnd_plus.weights[3] = 1\n",
    "lnd_plus.weights[4] = 1\n",
    "lnd_plus.weights[5] = 1\n",
    "lnd_plus.weights[6] = -1\n",
    "lnd_plus.weights[7] = 1\n",
    "lnd_plus.weights[0] = -1\n",
    "\n",
    "\n",
    "Xt = reshapeMatrix(X_data_set[3])\n",
    "print(Xt)\n",
    "y = lnd_plus.forward(Xt)\n",
    "print(lnd_plus)\n",
    "print(y)\n"
   ]
  }
 ],
 "metadata": {
  "kernelspec": {
   "display_name": "Python 3.10.2 64-bit",
   "language": "python",
   "name": "python3"
  },
  "language_info": {
   "codemirror_mode": {
    "name": "ipython",
    "version": 3
   },
   "file_extension": ".py",
   "mimetype": "text/x-python",
   "name": "python",
   "nbconvert_exporter": "python",
   "pygments_lexer": "ipython3",
   "version": "3.10.2"
  },
  "orig_nbformat": 4,
  "vscode": {
   "interpreter": {
    "hash": "a42ccb73e7d9bfdf27e036f1d2b8b681e55fc0743cc5586bc2474d4a60f4b886"
   }
  }
 },
 "nbformat": 4,
 "nbformat_minor": 2
}
